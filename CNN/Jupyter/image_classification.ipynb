{
  "nbformat": 4,
  "nbformat_minor": 0,
  "metadata": {
    "colab": {
      "name": "image_classification.ipynb",
      "provenance": [],
      "authorship_tag": "ABX9TyOmUZI4WntMJ6CsVw0KgH39",
      "include_colab_link": true
    },
    "kernelspec": {
      "name": "python3",
      "display_name": "Python 3"
    },
    "language_info": {
      "name": "python"
    }
  },
  "cells": [
    {
      "cell_type": "markdown",
      "metadata": {
        "id": "view-in-github",
        "colab_type": "text"
      },
      "source": [
        "<a href=\"https://colab.research.google.com/github/lkozina1309/tensorflow/blob/main/CNN/Jupyter/image_classification.ipynb\" target=\"_parent\"><img src=\"https://colab.research.google.com/assets/colab-badge.svg\" alt=\"Open In Colab\"/></a>"
      ]
    },
    {
      "cell_type": "markdown",
      "metadata": {
        "id": "6RmJiQuq9BZe"
      },
      "source": [
        "Script *image_classification.ipynb* is used to classify horses or humans on an images. It uses tensorflow dataset *horses_or_humans*. "
      ]
    },
    {
      "cell_type": "markdown",
      "metadata": {
        "id": "YmzTGSUD9lq-"
      },
      "source": [
        "We'll import libraries first."
      ]
    },
    {
      "cell_type": "code",
      "metadata": {
        "id": "gBdeoToQ9onl"
      },
      "source": [
        "import tensorflow as tf\n",
        "from tensorflow import keras\n",
        "\n",
        "from tensorflow.keras import datasets, layers, models\n",
        "import matplotlib.pyplot as plt\n",
        "import tensorflow_datasets as tfds"
      ],
      "execution_count": 23,
      "outputs": []
    },
    {
      "cell_type": "markdown",
      "metadata": {
        "id": "0eEObFKV9uu8"
      },
      "source": [
        "Then, we have download the dataset."
      ]
    },
    {
      "cell_type": "code",
      "metadata": {
        "id": "aUfWDEaD9xeS"
      },
      "source": [
        "tfds.disable_progress_bar()\n",
        "\n",
        "(raw_train, raw_validation, raw_test), metadata = tfds.load(\n",
        "    'horses_or_humans',\n",
        "    split=['train[:80%]', 'train[80%:90%]', 'train[90%:]'],\n",
        "    with_info=True,\n",
        "    as_supervised=True,\n",
        ")"
      ],
      "execution_count": 24,
      "outputs": []
    },
    {
      "cell_type": "code",
      "metadata": {
        "id": "mSc_vVWS93iE"
      },
      "source": [
        "IMG_SIZE = 160\n",
        "\n",
        "def format_example(image, label):\n",
        "  image = tf.cast(image, tf.float32)\n",
        "  image = (image/127.5) - 1\n",
        "  image = tf.image.resize(image, (IMG_SIZE, IMG_SIZE))\n",
        "  return image, label"
      ],
      "execution_count": 25,
      "outputs": []
    },
    {
      "cell_type": "code",
      "metadata": {
        "id": "2pFr08cn-DCM"
      },
      "source": [
        "train = raw_train.map(format_example)\n",
        "validation = raw_validation.map(format_example)\n",
        "test = raw_test.map(format_example)"
      ],
      "execution_count": 26,
      "outputs": []
    },
    {
      "cell_type": "code",
      "metadata": {
        "id": "7sFFm622-F8r"
      },
      "source": [
        "BATCH_SIZE = 32\n",
        "SHUFFLE_BUFFER_SIZE = 1000\n",
        "\n",
        "train_batches = train.shuffle(SHUFFLE_BUFFER_SIZE).batch(BATCH_SIZE)\n",
        "validation_batches = validation.batch(BATCH_SIZE)\n",
        "test_batches = test.batch(BATCH_SIZE)"
      ],
      "execution_count": 27,
      "outputs": []
    },
    {
      "cell_type": "markdown",
      "metadata": {
        "id": "iFEQyBfj-L6G"
      },
      "source": [
        "Now, we have to download pretrained model."
      ]
    },
    {
      "cell_type": "code",
      "metadata": {
        "id": "zb4uWmVZ-RT8"
      },
      "source": [
        "IMG_SHAPE = (IMG_SIZE, IMG_SIZE, 3)\n",
        "\n",
        "base_model = tf.keras.applications.MobileNetV2(input_shape=IMG_SHAPE,\n",
        "                                               include_top=False,\n",
        "                                               weights='imagenet')\n",
        "\n"
      ],
      "execution_count": 28,
      "outputs": []
    },
    {
      "cell_type": "markdown",
      "metadata": {
        "id": "2-VP1Bgr-VAH"
      },
      "source": [
        "And we have to set base model not to be trainable."
      ]
    },
    {
      "cell_type": "code",
      "metadata": {
        "id": "_BLoBTgB-egT"
      },
      "source": [
        "base_model.trainable = False"
      ],
      "execution_count": 29,
      "outputs": []
    },
    {
      "cell_type": "markdown",
      "source": [
        "Now, we are creating the model and compiling it."
      ],
      "metadata": {
        "id": "wBhB9_q35_Va"
      }
    },
    {
      "cell_type": "code",
      "metadata": {
        "id": "Y6_wpwC0-oAe"
      },
      "source": [
        "model = tf.keras.Sequential([\n",
        "  base_model,\n",
        "  tf.keras.layers.GlobalAveragePooling2D(),\n",
        "  keras.layers.Dense(1)\n",
        "])"
      ],
      "execution_count": 30,
      "outputs": []
    },
    {
      "cell_type": "code",
      "metadata": {
        "id": "P8rA5D8D-oyo"
      },
      "source": [
        "model.compile(optimizer=tf.keras.optimizers.RMSprop(learning_rate=0.0001),\n",
        "              loss=tf.keras.losses.BinaryCrossentropy(from_logits=True),\n",
        "              metrics=['accuracy'])"
      ],
      "execution_count": 32,
      "outputs": []
    },
    {
      "cell_type": "markdown",
      "metadata": {
        "id": "6cOLbFM1-vGK"
      },
      "source": [
        "Evaluate loss and accuracy."
      ]
    },
    {
      "cell_type": "code",
      "metadata": {
        "id": "sdoUXPr2-0Y0",
        "colab": {
          "base_uri": "https://localhost:8080/"
        },
        "outputId": "93a0f0fd-da7b-432a-e6a1-65083cf56e39"
      },
      "source": [
        "loss, acc = model.evaluate(validation_batches, steps = 20)"
      ],
      "execution_count": 33,
      "outputs": [
        {
          "output_type": "stream",
          "name": "stdout",
          "text": [
            " 4/20 [=====>........................] - ETA: 5s - loss: 0.5160 - accuracy: 0.8137WARNING:tensorflow:Your input ran out of data; interrupting training. Make sure that your dataset or generator can generate at least `steps_per_epoch * epochs` batches (in this case, 20 batches). You may need to use the repeat() function when building your dataset.\n"
          ]
        },
        {
          "output_type": "stream",
          "name": "stderr",
          "text": [
            "WARNING:tensorflow:Your input ran out of data; interrupting training. Make sure that your dataset or generator can generate at least `steps_per_epoch * epochs` batches (in this case, 20 batches). You may need to use the repeat() function when building your dataset.\n"
          ]
        },
        {
          "output_type": "stream",
          "name": "stdout",
          "text": [
            "\b\b\b\b\b\b\b\b\b\b\b\b\b\b\b\b\b\b\b\b\b\b\b\b\b\b\b\b\b\b\b\b\b\b\b\b\b\b\b\b\b\b\b\b\b\b\b\b\b\b\b\b\b\b\b\b\b\b\b\b\b\b\b\b\b\b\b\b\b\b\b\b\b\b\b\b\b\b\b\b\b\b\r20/20 [==============================] - 4s 56ms/step - loss: 0.5160 - accuracy: 0.8137\n"
          ]
        }
      ]
    },
    {
      "cell_type": "markdown",
      "metadata": {
        "id": "yEpnt3z7-1Sh"
      },
      "source": [
        "And print the accuracy at the end."
      ]
    },
    {
      "cell_type": "code",
      "metadata": {
        "id": "K_f5V0EP-5hf",
        "colab": {
          "base_uri": "https://localhost:8080/"
        },
        "outputId": "08477157-a194-42ef-cb94-eeaeee523c23"
      },
      "source": [
        "history = model.fit(train_batches,\n",
        "                    epochs=3,\n",
        "                    validation_data=validation_batches)\n",
        "\n",
        "acc = history.history['accuracy']\n",
        "print(acc)"
      ],
      "execution_count": 34,
      "outputs": [
        {
          "output_type": "stream",
          "name": "stdout",
          "text": [
            "Epoch 1/3\n",
            "26/26 [==============================] - 21s 567ms/step - loss: 0.4076 - accuracy: 0.8504 - val_loss: 0.3372 - val_accuracy: 0.9216\n",
            "Epoch 2/3\n",
            "26/26 [==============================] - 18s 567ms/step - loss: 0.2965 - accuracy: 0.9258 - val_loss: 0.2582 - val_accuracy: 0.9706\n",
            "Epoch 3/3\n",
            "26/26 [==============================] - 18s 567ms/step - loss: 0.2228 - accuracy: 0.9684 - val_loss: 0.1942 - val_accuracy: 0.9804\n",
            "[0.8503649830818176, 0.9257907271385193, 0.9683698415756226]\n"
          ]
        }
      ]
    }
  ]
}