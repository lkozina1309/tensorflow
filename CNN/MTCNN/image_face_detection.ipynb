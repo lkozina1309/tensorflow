{
  "nbformat": 4,
  "nbformat_minor": 0,
  "metadata": {
    "colab": {
      "name": "Untitled3.ipynb",
      "provenance": [],
      "authorship_tag": "ABX9TyMxuakcpxwathuOKlH8TkmQ",
      "include_colab_link": true
    },
    "kernelspec": {
      "name": "python3",
      "display_name": "Python 3"
    },
    "language_info": {
      "name": "python"
    }
  },
  "cells": [
    {
      "cell_type": "markdown",
      "metadata": {
        "id": "view-in-github",
        "colab_type": "text"
      },
      "source": [
        "<a href=\"https://colab.research.google.com/github/lkozina1309/tensorflow/blob/main/CNN/MTCNN/image_face_detection.ipynb\" target=\"_parent\"><img src=\"https://colab.research.google.com/assets/colab-badge.svg\" alt=\"Open In Colab\"/></a>"
      ]
    },
    {
      "cell_type": "markdown",
      "metadata": {
        "id": "gRecscHv521H"
      },
      "source": [
        "Script image_face_detection.ipynb is used for face detection on an image. It uses image 'chelsea.jpeg' which can be found in data folder. It also uses MTCNN face classifier, so we have to install it first."
      ]
    },
    {
      "cell_type": "code",
      "metadata": {
        "id": "QxLlZqii6QGa"
      },
      "source": [
        "! pip install mtcnn"
      ],
      "execution_count": null,
      "outputs": []
    },
    {
      "cell_type": "markdown",
      "metadata": {
        "id": "3doPwomL6TD2"
      },
      "source": [
        "Then we have to import the libraries.\n"
      ]
    },
    {
      "cell_type": "code",
      "metadata": {
        "id": "klto6Or56qh6"
      },
      "source": [
        "import cv2\n",
        "from mtcnn.mtcnn import MTCNN\n",
        "from google.colab import files\n",
        "from google.colab.patches import cv2_imshow"
      ],
      "execution_count": null,
      "outputs": []
    },
    {
      "cell_type": "markdown",
      "metadata": {
        "id": "K_8bWlLL63dc"
      },
      "source": [
        "Then we have to upload an image we want. Now, I'll use image 'chelsea.jpeg' which can be found in data folder."
      ]
    },
    {
      "cell_type": "code",
      "metadata": {
        "id": "gDaAo-HX7D3u"
      },
      "source": [
        "uploaded = files.upload()"
      ],
      "execution_count": null,
      "outputs": []
    },
    {
      "cell_type": "code",
      "metadata": {
        "id": "D_oGMBT37twg"
      },
      "source": [
        "img = cv2.imread('chelsea.jpeg')"
      ],
      "execution_count": null,
      "outputs": []
    },
    {
      "cell_type": "code",
      "metadata": {
        "id": "O3SFAPqs71W7"
      },
      "source": [
        "img = cv2.cvtColor(img, cv2.COLOR_BGR2RGB)"
      ],
      "execution_count": null,
      "outputs": []
    },
    {
      "cell_type": "markdown",
      "metadata": {
        "id": "MVF-qk4E76BX"
      },
      "source": [
        "Now, we'll use mtcnn detector."
      ]
    },
    {
      "cell_type": "code",
      "metadata": {
        "id": "3PByGS8f7_Ga"
      },
      "source": [
        "detector = MTCNN()\n",
        "faces = detector.detect_faces(img)"
      ],
      "execution_count": null,
      "outputs": []
    },
    {
      "cell_type": "code",
      "metadata": {
        "id": "7Rf5yRHx8Du2"
      },
      "source": [
        "for i in range(len(faces)):\n",
        "  x1, y1, width, height = faces[i]['box']\n",
        "  x2, y2 = x1 + width, y1 + height\n",
        "  cv2.rectangle(img, (x1,y1), (x2,y2), (255, 0 , 0), 3)"
      ],
      "execution_count": null,
      "outputs": []
    },
    {
      "cell_type": "markdown",
      "metadata": {
        "id": "bpfXyxyJ8K6L"
      },
      "source": [
        "In colab, we can't use cv2.imshow so we'll use cv2_imshow, which takes only one argument."
      ]
    },
    {
      "cell_type": "code",
      "metadata": {
        "id": "LXdv6iEn8Jsp"
      },
      "source": [
        "cv2_imshow(img)"
      ],
      "execution_count": null,
      "outputs": []
    }
  ]
}